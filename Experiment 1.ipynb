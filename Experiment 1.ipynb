{
 "cells": [
  {
   "cell_type": "code",
   "execution_count": null,
   "id": "c711b436-0a79-4895-a368-e522a282e0a3",
   "metadata": {},
   "outputs": [],
   "source": [
    "#Alphabet Soup Problem\n",
    "#create user input interface\n",
    "string = input(\"Enter a word: \")\n",
    "#create a function that sorts a string alphabetically\n",
    "def alphabet_soup(string): \n",
    "    i = ''.join(sorted(string)) \n",
    "    #use sorted to arrange every letter of a string in a list alphabetically \n",
    "    #use join to merge all the items into a single string\n",
    "    return i\n",
    "j = alphabet_soup(string) #assign the function to a variable to be able to do a function call\n",
    "print(j) #call and print the function"
   ]
  },
  {
   "cell_type": "code",
   "execution_count": null,
   "id": "9142b7c8-d2f9-4216-84dd-2f18244a6c6b",
   "metadata": {},
   "outputs": [],
   "source": [
    "#Emoticon Problem\n",
    "#create a dictionary that represent a word into a emote\n",
    "#create another duplicate of a word incase of capitalization\n",
    "emote_dictionary = { \"Smile\" : \":)\", \"smile\":\":)\",\"Grin\":\":D\",\"grin\":\":D\",\"Sad\":\":((\",\"sad\" : \":((\",\"Mad\" : \">:(\",\"mad\" : \">:(\"}\n",
    "#create user interface to enter a sentence\n",
    "string = input(\"Enter a sentence: \")\n",
    "#create a function that replace the words in the dictionary into the emote\n",
    "def emotify(string):\n",
    "    for word, emote in emote_dictionary.items(): #Create a for loop that goes through the combinations in the dictionary\n",
    "        string = string.replace(word, emote) #replace the word with the emote\n",
    "    return string\n",
    "i = emotify(string) #assign the function to a variable to be able to do a function call\n",
    "print(i)  #call and print the function\n",
    "  "
   ]
  },
  {
   "cell_type": "code",
   "execution_count": null,
   "id": "26b09dd2-b531-486a-bef3-87ef11c7fb5a",
   "metadata": {},
   "outputs": [],
   "source": [
    "#Unpacking List problem\n",
    "#create a list named writeyourcodehere\n",
    "writeyourcodehere = [] \n",
    "#code for number of items in the list\n",
    "no_items = int(input(\"Enter number of items: \")) \n",
    "#create a for loop that lets the user enter elements in the list\n",
    "for i in range(no_items):\n",
    "    item = input(\"Enter item: \")\n",
    "    writeyourcodehere.append(item) #adds the element to the list\n",
    "#create a function that removes the first and last element in the list\n",
    "def remove_first_last(j):\n",
    "    return j[1:-1]\n",
    "#call the first and last values in the list using indexing\n",
    "#use the function to call numbers in between first and last\n",
    "#print the values in the proper format        \n",
    "print(\"first: \",writeyourcodehere[0],\"   \",\"middle: \", remove_first_last(writeyourcodehere), \"    last: \", writeyourcodehere[-1] )"
   ]
  },
  {
   "cell_type": "code",
   "execution_count": null,
   "id": "e087a35d-eacf-49a5-9697-193d2eb5d344",
   "metadata": {},
   "outputs": [],
   "source": []
  }
 ],
 "metadata": {
  "kernelspec": {
   "display_name": "Python 3 (ipykernel)",
   "language": "python",
   "name": "python3"
  },
  "language_info": {
   "codemirror_mode": {
    "name": "ipython",
    "version": 3
   },
   "file_extension": ".py",
   "mimetype": "text/x-python",
   "name": "python",
   "nbconvert_exporter": "python",
   "pygments_lexer": "ipython3",
   "version": "3.12.4"
  }
 },
 "nbformat": 4,
 "nbformat_minor": 5
}
